{
 "cells": [
  {
   "cell_type": "markdown",
   "metadata": {},
   "source": [
    "# 0.实验环境、参考资料、数据来源\n",
    "\n",
    "#### 实验环境：Win10 + Anaconda3(64-bit，python 3.7.0) + Jupyter Notebook + matplotlib(2.2.3) + seaborn(0.9.0);\n",
    "Python 是一门简单易学且功能强大的编程语言。它拥有高效的高级数据结构，并且能够用简单而又高效的方式进行面向对象编程，是一种面向对象的解释型计算机程序设计语言，具有跨平台的特点，可以在Linux、macOS以及Windows系统中搭建环境并使用。最新版本3.7；python 2.7 官方支持到2020年结束，不建议再学习python 2.x ；\n",
    "\n",
    "Anaconda 是专门为了方便使用 Python 进行数据科学研究而建立的一组软件包，涵盖了数据科学领域常见的 Python 库，并且自带了专门用来解决软件环境依赖问题的 conda 包管理系统，可以很方便地解决多版本python并存、切换以及各种第三方包安装问题。\n",
    "> 推荐[清华大学开源软件镜像站](https://mirrors.tuna.tsinghua.edu.cn/)下载Anaconda3.\n",
    "\n",
    "#### 参考资料：\n",
    "1. [Docs » The Jupyter Notebook](https://jupyter-notebook.readthedocs.io/en/stable/index.html)；\n",
    "2. [matplotlib tutorial](https://matplotlib.org/tutorials/index.html)；[matlotlib用户指南（中文）](https://wizardforcel.gitbooks.io/matplotlib-user-guide/content/)；\n",
    "3. [Official seaborn tutorial](https://seaborn.pydata.org/tutorial.html)；\n",
    "4. [《利用Python进行数据分析·第2版》](https://www.jianshu.com/p/04d180d90a3f)；\n",
    "\n",
    "\n",
    "#### 数据来源：\n",
    "1. [Iris Species](https://www.kaggle.com/uciml/iris)；\n"
   ]
  },
  {
   "cell_type": "markdown",
   "metadata": {},
   "source": [
    "# 1.Jupyter项目\n",
    "\n",
    "#### 1.1 Jupyter简介\n",
    "Jupyter项目旨在提供一套开源工具的生态系统来方便**交互式计算和数据分析**。<br>\n",
    "notebook是Jupyter项目的重要组件之一，它是一个代码、文本（有标记或无标记）、数据可视化或其它输出的 **交互式**文档。<br>\n",
    "Jupyter Notebook需要与内核（kernel）互动，内核是Jupyter与其它编程语言的交互编程协议。支持多种语言，Python、R、Julia等。支持Python的Jupyter内核是使用IPython。\n",
    "\n",
    "要启动Jupyter，在命令行中输入jupyter notebook。该命令其实是建立了一个网络服务器，可以本地访问该服务器，也可以通过配置，远程使用。\n",
    "\n",
    "默认配置是本地直接打开系统的网络浏览器，通过localhost:8888，即可使用Jupyter notebook；如果是远程使用，也可以输入Jupyter notebook服务器的网络地址，即可以使用Jupyter notebook。\n",
    "> 官方网站提供了一个体验方式：http://jupyter.org/try ；\n",
    "\n",
    "Jupyter notebook还可以安装插件（类似浏览器和IDE的插件），增强使用功能。\n",
    "\n",
    "Jupyter notebook创建的包含代码的交互式文档是“.ipynb”格式（如果用纯文本文件打开，会看到实质上是一个Json格式的文件），非常方便网络共享；Kaggel、Github上很多数据科学源代码即以“.ipynb”文件发布。“.ipynb”也可以导出为其他文件格式：.py、.html、.pdf、.md、.reST等。\n",
    "\n",
    "Jupyter notebook支持创建纯文本文件；添加文件夹；直接打开系统 terminal，和系统进行交互。"
   ]
  },
  {
   "cell_type": "markdown",
   "metadata": {},
   "source": [
    "#### 1.2 .ipynb 文件由多个cell组成；cell是基本单元；\n",
    "\n",
    "###### cell的两种状态：\n",
    "按ESC切换到命令状态；cell框颜色是绿色；<br>\n",
    "按Enter进入编辑状态；cell框颜色是蓝色；<br>\n",
    "\n",
    "###### cell的三种类型：\n",
    "1. code（默认）：python代码；%等开头的魔术命令；!开头的系统交互命令；\n",
    "2. Markdown模式：支持markdown语法形式和latex语法的数学公式；\n",
    "3. Raw NBconvert模式：纯文字，类似txt的编辑。\n",
    "\n",
    "###### cell执行\n",
    "每次选择一个cell，编辑完成后，按Shift Enter 或 Ctrl Enter 执行当前选中的cell；\n",
    "\n",
    "1. 代码类型的cell会在下方输出结果；\n",
    "2. markdown类型的cell会进行格式化； \n",
    "3. 纯文本模式不会有变化，输入即输出。\n",
    "\n",
    "> 实时运行的代码、叙事性的文本和可视化被整合在一起，方便使用代码和数据来讲述故事。\n",
    "> 因此，有些人也把编程方式称为：文学化编程（计算型叙述）。"
   ]
  },
  {
   "cell_type": "code",
   "execution_count": null,
   "metadata": {},
   "outputs": [],
   "source": [
    "# 获取当前路径\n",
    "import os\n",
    "os.getcwd()"
   ]
  },
  {
   "cell_type": "code",
   "execution_count": null,
   "metadata": {},
   "outputs": [],
   "source": [
    "%pwd"
   ]
  },
  {
   "cell_type": "markdown",
   "metadata": {},
   "source": [
    "\\begin{equation} \\label{euler} e^{\\pi i} + 1 = 0 \\end{equation}\n",
    "\n",
    "$e^{\\pi i} + 1 = 0$\n",
    "$$e^{\\pi i} + 1 = 0$$"
   ]
  },
  {
   "cell_type": "markdown",
   "metadata": {
    "collapsed": true
   },
   "source": [
    "# 2.Python可视化模块\n",
    "\n",
    "#### Matplotlib：\n",
    "Matplotlib 是一个用于在 Python 中绘制数组的 2D 图形库。该项目是由John Hunter于2002年启动的，其目的是为Python构建一个MATLAB式的绘图接口，但它独立于 MATLAB，可以通过面向对象的方式使用。matplotlib支持各种操作系统上许多不同的GUI后端，而且还能将图片导出为各种常见的矢量（vector）和光栅（raster）图：PDF、SVG、JPG、PNG、BMP、GIF等。随着时间的发展，matplotlib衍生出了多个数据可视化的工具集，它们使用matplotlib作为底层，如pandas、seaborn等。\n",
    "\n",
    "#### Seaborn：\n",
    "seaborn是基于matplotlib开发的可视化库，在matplotlib的基础上进行了更高级的API封装，从而使得作图更加容易，在大多数情况下使用seaborn就能做出很具有吸引力的图。它比matplotlib更加容易使用，而且图例的风格更加现代化。\n",
    "\n",
    "#### 其他：\n",
    "Pandas内置的绘图方法；用于交互、动态的可视化库有：Plotly，Bokeh，Pyecharts等；处理地理信息数据的可视化库：Geoplotlib和Mapbox；ggplot基于ggplot2（ggplot2是一个R语言作图系统），ggplot读取的数据格式为pandas的DataFrame。"
   ]
  },
  {
   "cell_type": "code",
   "execution_count": null,
   "metadata": {},
   "outputs": [],
   "source": [
    "import numpy as np # 提供多维数组和多维数组上的快速运算\n",
    "import pandas as pd #专门处理表格和混杂数据，主要数据结构：Series和DataFrame\n",
    "import matplotlib\n",
    "import matplotlib.pyplot as plt\n",
    "import seaborn as sns\n",
    "\n",
    "# 设置绘图显示方式\n",
    "%matplotlib inline \n",
    "sns.set(style=\"white\", color_codes=True) \n",
    "\n",
    "import warnings\n",
    "warnings.filterwarnings(\"ignore\")\n"
   ]
  },
  {
   "cell_type": "markdown",
   "metadata": {},
   "source": [
    "# 3.通过实例演示Matplotlib和Seaborn"
   ]
  },
  {
   "cell_type": "markdown",
   "metadata": {},
   "source": [
    "#### 3.1 matplotlib绘图\n",
    "matplotlib绘图，其主要实现方式有两种：使用过程型的pyplot接口（matplotlib.pyplot）以及更为面向对象的原生matplotlib API。"
   ]
  },
  {
   "cell_type": "markdown",
   "metadata": {},
   "source": [
    "#### 3.1.1 pyplot使用"
   ]
  },
  {
   "cell_type": "code",
   "execution_count": null,
   "metadata": {},
   "outputs": [],
   "source": [
    "?plt.plot"
   ]
  },
  {
   "cell_type": "code",
   "execution_count": null,
   "metadata": {},
   "outputs": [],
   "source": [
    "help(plt.plot)"
   ]
  },
  {
   "cell_type": "markdown",
   "metadata": {},
   "source": [
    "plot()是一个通用命令，并且可接受任意数量的参数，画出一条二维曲线图。<matplotlib.lines.Line2D>\n",
    "\n",
    "语法形式：plot(x,y,[fmt])"
   ]
  },
  {
   "cell_type": "code",
   "execution_count": null,
   "metadata": {},
   "outputs": [],
   "source": [
    "plt.plot([1,2,3,4,5], [1,4,9,16,25])\n",
    "# plt.show()"
   ]
  },
  {
   "cell_type": "markdown",
   "metadata": {},
   "source": [
    "参数里可以添加指示图形颜色和线条类型的格式字符串。 格式字符串的字母和符号来自 MATLAB，并且将颜色字符串与线型字符串连接在一起。 默认格式字符串为\"b-\"，它是一条蓝色实线。可以通过改变参数，控制线条外观。"
   ]
  },
  {
   "cell_type": "code",
   "execution_count": null,
   "metadata": {},
   "outputs": [],
   "source": [
    "plt.plot([1,2,3,4,5], [1,4,9,16,25], 'ro') # 'ro'：红色圆点"
   ]
  },
  {
   "cell_type": "markdown",
   "metadata": {},
   "source": [
    "在同一个图里，同时绘制多条曲线:"
   ]
  },
  {
   "cell_type": "code",
   "execution_count": null,
   "metadata": {},
   "outputs": [],
   "source": [
    "x = np.linspace(0, 2 * np.pi, 50) # 生成一个包含 50 个元素的数组x，这 50 个元素均匀的分布在 [0, 2pi] 的区间上。"
   ]
  },
  {
   "cell_type": "code",
   "execution_count": null,
   "metadata": {},
   "outputs": [],
   "source": [
    "#plt.plot(x) # 只输入一个参数，plot（）会假定输入的是y值序列，自动生成相同长度的x：0，1，2……"
   ]
  },
  {
   "cell_type": "code",
   "execution_count": null,
   "metadata": {},
   "outputs": [],
   "source": [
    "# 一张图里绘制多个曲线\n",
    "plt.plot(x, np.sin(x), 'r-o',\n",
    "        x, np.cos(x), 'g--')"
   ]
  },
  {
   "cell_type": "markdown",
   "metadata": {},
   "source": [
    "绘制多个子图："
   ]
  },
  {
   "cell_type": "code",
   "execution_count": null,
   "metadata": {},
   "outputs": [],
   "source": [
    "# 使用子图\n",
    "plt.subplot(1, 2, 1) # （行，列，活跃区）\n",
    "plt.plot(x, np.sin(x), 'r-o')\n",
    "plt.subplot(1, 2, 2)\n",
    "plt.plot(x, np.cos(x), 'g--')"
   ]
  },
  {
   "cell_type": "code",
   "execution_count": null,
   "metadata": {},
   "outputs": [],
   "source": [
    "plt.subplot(2, 1, 1) # （行，列，活跃区）\n",
    "plt.plot(x, np.sin(x), 'r-o')\n",
    "plt.subplot(2, 1, 2)\n",
    "plt.plot(x, np.cos(x), 'g--')"
   ]
  },
  {
   "cell_type": "markdown",
   "metadata": {},
   "source": [
    "#### pyplot()中可以使用绘制不同图形API有：\n",
    "* plt.plot(): 二维曲线图；\n",
    "* plt.bar()：柱状图；\n",
    "* plt.barh(): 柱状图（水平）；\n",
    "* plt.boxplot()：箱线图；\n",
    "* plt.clabel()：等高线图；\n",
    "* plt.hexbin()：六边形\n",
    "* plt.hist()：直方图；\n",
    "* plt.scatter()：散点图；\n",
    "\n",
    "还有许多绘图函数没有列出来。每个函数都有许多参数。详细可以参考官方文档：https://matplotlib.org/api/pyplot_api.html。"
   ]
  },
  {
   "cell_type": "code",
   "execution_count": null,
   "metadata": {},
   "outputs": [],
   "source": [
    "# %load https://matplotlib.org/mpl_examples/pylab_examples/bar_stacked.py #柱状图\n",
    "# a stacked bar plot with errorbars\n",
    "import numpy as np\n",
    "import matplotlib.pyplot as plt\n",
    "\n",
    "\n",
    "N = 5\n",
    "menMeans = (20, 35, 30, 35, 27)\n",
    "womenMeans = (25, 32, 34, 20, 25)\n",
    "menStd = (2, 3, 4, 1, 2)\n",
    "womenStd = (3, 5, 2, 3, 3)\n",
    "ind = np.arange(N)    # the x locations for the groups\n",
    "width = 0.35       # the width of the bars: can also be len(x) sequence\n",
    "\n",
    "p1 = plt.bar(ind, menMeans, width, color='#d62728', yerr=menStd)\n",
    "p2 = plt.bar(ind, womenMeans, width,\n",
    "             bottom=menMeans, yerr=womenStd)\n",
    "\n",
    "plt.ylabel('Scores')\n",
    "plt.title('Scores by group and gender')\n",
    "plt.xticks(ind, ('G1', 'G2', 'G3', 'G4', 'G5'))\n",
    "plt.yticks(np.arange(0, 81, 10))\n",
    "plt.legend((p1[0], p2[0]), ('Men', 'Women'))\n",
    "\n",
    "plt.show()\n"
   ]
  },
  {
   "cell_type": "code",
   "execution_count": null,
   "metadata": {},
   "outputs": [],
   "source": [
    "# %load https://matplotlib.org/mpl_examples/statistics/histogram_demo_features.py #直方图\n",
    "\"\"\"\n",
    "=========================================================\n",
    "Demo of the histogram (hist) function with a few features\n",
    "=========================================================\n",
    "\n",
    "In addition to the basic histogram, this demo shows a few optional\n",
    "features:\n",
    "\n",
    "    * Setting the number of data bins\n",
    "    * The ``normed`` flag, which normalizes bin heights so that the\n",
    "      integral of the histogram is 1. The resulting histogram is an\n",
    "      approximation of the probability density function.\n",
    "    * Setting the face color of the bars\n",
    "    * Setting the opacity (alpha value).\n",
    "\n",
    "Selecting different bin counts and sizes can significantly affect the\n",
    "shape of a histogram. The Astropy docs have a great section on how to\n",
    "select these parameters:\n",
    "http://docs.astropy.org/en/stable/visualization/histogram.html\n",
    "\"\"\"\n",
    "\n",
    "import numpy as np\n",
    "import matplotlib.mlab as mlab\n",
    "import matplotlib.pyplot as plt\n",
    "\n",
    "np.random.seed(0)\n",
    "\n",
    "# example data\n",
    "mu = 100  # mean of distribution\n",
    "sigma = 15  # standard deviation of distribution\n",
    "x = mu + sigma * np.random.randn(437)\n",
    "\n",
    "num_bins = 50\n",
    "\n",
    "fig, ax = plt.subplots()\n",
    "\n",
    "# the histogram of the data\n",
    "n, bins, patches = ax.hist(x, num_bins, normed=1)\n",
    "\n",
    "# add a 'best fit' line\n",
    "y = mlab.normpdf(bins, mu, sigma)\n",
    "ax.plot(bins, y, '--')\n",
    "ax.set_xlabel('Smarts')\n",
    "ax.set_ylabel('Probability density')\n",
    "ax.set_title(r'Histogram of IQ: $\\mu=100$, $\\sigma=15$')\n",
    "\n",
    "# Tweak spacing to prevent clipping of ylabel\n",
    "fig.tight_layout()\n",
    "plt.show()\n"
   ]
  },
  {
   "cell_type": "markdown",
   "metadata": {},
   "source": [
    "#### 给图形添加文字说明：坐标轴标题，图形标题，图例（legend）\n",
    "绘图参数图示：<img src=\"https://matplotlib.org/_images/anatomy1.png\" width=\"75%\" height=\"75%\" />"
   ]
  },
  {
   "cell_type": "code",
   "execution_count": null,
   "metadata": {},
   "outputs": [],
   "source": [
    "t = np.arange(0.0, 2.0, 0.01)\n",
    "s = np.sin(2*np.pi*t)\n",
    "\n",
    "plt.plot(t,s,label='curve:sin')\n",
    "plt.title(r'$\\alpha_i > \\beta_i$', fontsize=20)\n",
    "# 指定位置，添加文字\n",
    "plt.text(1, -0.6, r'$\\sum_{i=0}^\\infty x_i$', fontsize=20)\n",
    "plt.text(0.6, 0.6, r'$\\mathcal{A}\\mathrm{sin}(2 \\omega t)$',\n",
    "         fontsize=20)\n",
    "plt.xlabel('time (s)')\n",
    "plt.ylabel('volts (mV)')\n",
    "plt.legend(loc='best')\n",
    "\n",
    "# plt.savefig('curve.svg',format='svg')"
   ]
  },
  {
   "cell_type": "code",
   "execution_count": null,
   "metadata": {},
   "outputs": [],
   "source": [
    "?plt.savefig() # 保存当前绘图"
   ]
  },
  {
   "cell_type": "markdown",
   "metadata": {},
   "source": [
    "#### 3.1.2 面向对象的绘图方式\n",
    "matplotlib API 有三个层级。 matplotlib.backend_bases.FigureCanvas是绘制图形的区域，matplotlib.backend_bases.Renderer是知道如何在ChartCanvas上绘制的对象，而matplotlib.artist.Artist是知道如何使用渲染器在画布上画图的对象。 FigureCanvas和Renderer处理与用户界面工具包（如 wxPython）或 PostScript等绘图语言交互的所有细节，Artist处理所有高级结构，如表示和布局图形，文本和线条。用户通常要花费95％的时间来处理艺术家。\n",
    "\n",
    "有两种类型的艺术家：基本类型和容器类型。基本类型表示我们想要绘制到画布上的标准图形对象：Line2D，Rectangle，Text，AxesImage等，容器是放置它们的位置（Axis，Axes和Figure）。标准用法是创建一个Figure实例，使用Figure创建一个或多个Axes或Subplot实例，并使用Axes实例的辅助方法来创建基本类型。\n",
    "\n",
    "顶层容器艺术家是matplotlib.figure.Figure，它包含图形中的所有内容。 图形的背景是一个Rectangle，存储在Figure.patch中。 当你向图形中添加子图（add_subplot()）和轴域（add_axes()）时，这些会附加到Figure.axes。"
   ]
  },
  {
   "cell_type": "code",
   "execution_count": null,
   "metadata": {},
   "outputs": [],
   "source": [
    "fig = plt.figure()\n",
    "\n",
    "ax1 = fig.add_subplot(2, 2, 1)\n",
    "ax2 = fig.add_subplot(2, 2, 2)\n",
    "ax3 = fig.add_subplot(2, 2, 3)\n",
    "\n",
    "ax1.hist(np.random.randn(100), bins=20, color='k', alpha=0.3)\n",
    "ax2.scatter(np.arange(30), np.arange(30) + 3 * np.random.randn(30))\n",
    "ax3.plot(np.random.randn(50).cumsum(), 'k--')"
   ]
  },
  {
   "cell_type": "code",
   "execution_count": null,
   "metadata": {},
   "outputs": [],
   "source": [
    "fig, axes = plt.subplots(2, 2, sharex=True, sharey=True) # 共享x轴，y轴\n",
    "for i in range(2):\n",
    "    for j in range(2):\n",
    "        axes[i, j].hist(np.random.randn(500), bins=50, color='k', alpha=0.5)\n",
    "plt.subplots_adjust(wspace=0, hspace=0)"
   ]
  },
  {
   "cell_type": "markdown",
   "metadata": {},
   "source": [
    "matplotlib实际上是一种比较低级的工具，有许多可以自定义的地方，绘图能力十分强大。但是，操作命令也十分复杂。pandas内置的绘图方法，底层调用的也是matplotlib模块。简单的绘图，我们可以直接考虑使用seaborn。"
   ]
  },
  {
   "cell_type": "markdown",
   "metadata": {},
   "source": [
    "#### 3.2 seaborn绘图\n",
    "\n",
    "Seaborn 由Michael Waskom创建的静态图形库。Seaborn简化了许多常见可视类型的创建。seaborn的数据多是 pandas.DataFrame 格式。seaborn在某些情况下简化了绘图，但并不能完全取代matplotlib，应当视seaborn为matplotlib的辅助工具。\n",
    "\n",
    "seaborn的顶级绘图函数：regplot()、catplot()、displot()、jointplot()、pairplot()等；\n",
    "\n",
    "函数具有许多参数，详细说明可以查看官方文档：https://seaborn.pydata.org/api.html。"
   ]
  },
  {
   "cell_type": "markdown",
   "metadata": {},
   "source": [
    "#### 3.2.1 绘制变量关系图（散点图、折线图）\n",
    "* relplot([x, y, hue, size, style, data, row, …])：Figure-level方法，可视化变量之间的关系。默认绘制散点图。但可以通过使用色调（hue），大小（size）和样式（style）的语义映射到三个附加变量来增强绘图。\n",
    "    * scatterplot([x, y, hue, style, size, data, …])：replot(kind='scatter')，散点图；\n",
    "    * lineplot([x, y, hue, size, style, data, …]): relplot(kind='line')，折线图；"
   ]
  },
  {
   "cell_type": "code",
   "execution_count": null,
   "metadata": {},
   "outputs": [],
   "source": [
    "# 导入数据\n",
    "iris=pd.read_csv('Iris.csv')\n",
    "iris=iris.drop(columns='Id')"
   ]
  },
  {
   "cell_type": "code",
   "execution_count": null,
   "metadata": {},
   "outputs": [],
   "source": [
    "iris.head()"
   ]
  },
  {
   "cell_type": "markdown",
   "metadata": {},
   "source": [
    "该数据集包含了5个属性：\n",
    "* SepalLengthCm（花萼长度），单位是cm;\n",
    "* SepalWidthCm（花萼宽度），单位是cm;\n",
    "* PetalLengthCm（花瓣长度），单位是cm;\n",
    "* PetalWidthCm（花瓣宽度），单位是cm;\n",
    "* 种类：Iris Setosa（山鸢尾），Iris Versicolour（杂色鸢尾），以及Iris Virginica（维吉尼亚鸢尾）。"
   ]
  },
  {
   "cell_type": "code",
   "execution_count": null,
   "metadata": {},
   "outputs": [],
   "source": [
    "iris.info()"
   ]
  },
  {
   "cell_type": "code",
   "execution_count": null,
   "metadata": {},
   "outputs": [],
   "source": [
    "iris.describe()"
   ]
  },
  {
   "cell_type": "code",
   "execution_count": null,
   "metadata": {},
   "outputs": [],
   "source": [
    "iris['Species'].value_counts()"
   ]
  },
  {
   "cell_type": "code",
   "execution_count": null,
   "metadata": {},
   "outputs": [],
   "source": [
    "sns.relplot(x='SepalLengthCm', y='SepalWidthCm', data=iris)"
   ]
  },
  {
   "cell_type": "code",
   "execution_count": null,
   "metadata": {},
   "outputs": [],
   "source": [
    "sns.relplot(x='SepalLengthCm', y='SepalWidthCm', hue='Species',data=iris, kind='scatter')"
   ]
  },
  {
   "cell_type": "markdown",
   "metadata": {},
   "source": [
    "#### 3.2.2分类变量可视化\n",
    "* catplot([x, y, hue, data, row, col, …])：Figure-level方法，categorical data 绘图，默认参数 kind=\"strip\"。x，y其中一个变量是分类变量。\n",
    "\n",
    "catplot()是一个统一的接口，我们可以设置不同的参数kind，使用不同的绘图。将不同的分类图类型视为属于三个不同的族，它们是：\n",
    "\n",
    "分类散点图：\n",
    "* [stripplot()](https://seaborn.pydata.org/generated/seaborn.stripplot.html#seaborn.stripplot)（设置 kind=\"strip\"；默认）：使用少量的随机“抖动”调整分类轴上的点的位置；\n",
    "* [swarmplot()](https://seaborn.pydata.org/generated/seaborn.swarmplot.html#seaborn.swarmplot)（设置kind=\"swarm\"）：使用防止它们重叠的算法沿着分类轴调整点，有人称这种图形为：beeswarm；\n",
    "\n",
    "分类分布图：\n",
    "* [boxplot()](https://seaborn.pydata.org/generated/seaborn.boxplot.html#seaborn.boxplot)（设置 kind=\"box\"）：箱线图；\n",
    "* [violinplot()](https://seaborn.pydata.org/generated/seaborn.violinplot.html#seaborn.violinplot)（设置kind=\"violin\"）：小提琴图；\n",
    "* [boxenplot()](https://seaborn.pydata.org/generated/seaborn.boxenplot.html#seaborn.boxenplot)（设置kind=\"boxen\"）：类似箱线图，适合较大数据集；\n",
    "\n",
    "分类估计图：\n",
    "* [barplot()](https://seaborn.pydata.org/generated/seaborn.barplot.html#seaborn.barplot)（设置kind=\"bar\"）：柱状图；\n",
    "* [countplot()](https://seaborn.pydata.org/generated/seaborn.countplot.html#seaborn.countplot)（设置kind=\"count\"）：接收参数x或y其中一个，绘制分类变量的数量；\n",
    "* [pointplot()](https://seaborn.pydata.org/generated/seaborn.pointplot.html#seaborn.pointplot)（设置kind=\"point\"）：对另一轴上的高度估计值进行编码，但不是显示完整的条形图，而是绘制点估计值和置信区间。\n",
    "\n",
    "这些族函数使用不同粒度级别的数据。使用同一的方式catplot(),可是设置不同的绘图种类，从不同角度考察数据。\n",
    "\n"
   ]
  },
  {
   "cell_type": "code",
   "execution_count": null,
   "metadata": {},
   "outputs": [],
   "source": [
    "# 默认使用kind=stripplot，使用少量的随机“抖动”调整分类轴上的点的位置\n",
    "sns.catplot(x='Species', y='SepalLengthCm', data=iris)"
   ]
  },
  {
   "cell_type": "code",
   "execution_count": null,
   "metadata": {},
   "outputs": [],
   "source": [
    "# 使用防止它们重叠的算法沿着分类轴调整点，有人称这种图形为：beeswarm；\n",
    "sns.catplot(x='Species', y='SepalLengthCm', data=iris, kind='swarm')"
   ]
  },
  {
   "cell_type": "code",
   "execution_count": null,
   "metadata": {},
   "outputs": [],
   "source": [
    "# 箱线图\n",
    "sns.catplot(x='Species', y='SepalLengthCm', data=iris, kind='box')"
   ]
  },
  {
   "cell_type": "code",
   "execution_count": null,
   "metadata": {},
   "outputs": [],
   "source": [
    "# 小提琴图\n",
    "sns.catplot(x='Species', y='SepalLengthCm', data=iris, kind='violin')"
   ]
  },
  {
   "cell_type": "code",
   "execution_count": null,
   "metadata": {},
   "outputs": [],
   "source": [
    "sns.catplot(x='Species', y='SepalLengthCm', data=iris, kind='boxen')"
   ]
  },
  {
   "cell_type": "code",
   "execution_count": null,
   "metadata": {},
   "outputs": [],
   "source": [
    "# 同一个数据，混合使用绘图函数\n",
    "g = sns.catplot(x=\"Species\", y=\"SepalLengthCm\", kind=\"violin\", inner=None, data=iris)\n",
    "sns.swarmplot(x=\"Species\", y=\"SepalLengthCm\", color=\"k\", size=3, data=iris, ax=g.ax)"
   ]
  },
  {
   "cell_type": "markdown",
   "metadata": {},
   "source": [
    "#### 分类变量的统计估计"
   ]
  },
  {
   "cell_type": "code",
   "execution_count": null,
   "metadata": {},
   "outputs": [],
   "source": [
    "sns.catplot(x='Species', y='SepalLengthCm', data=iris, kind='bar')"
   ]
  },
  {
   "cell_type": "code",
   "execution_count": null,
   "metadata": {},
   "outputs": [],
   "source": [
    "sns.catplot(x='Species',data=iris, kind=\"count\")\n",
    "# sns.catplot(x='Species', hue='SepalLengthCm', data=iris, kind=\"count\") # 这个例子不是很合适；"
   ]
  },
  {
   "cell_type": "code",
   "execution_count": null,
   "metadata": {},
   "outputs": [],
   "source": [
    "sns.catplot(x='Species', y='SepalLengthCm', data=iris, kind=\"point\")"
   ]
  },
  {
   "cell_type": "markdown",
   "metadata": {},
   "source": [
    "#### 3.2.3 可视化一个数据集的分布\n",
    "\n",
    "displot()函数绘制单变量的直方图并拟合密度估计值（KDE）。"
   ]
  },
  {
   "cell_type": "code",
   "execution_count": null,
   "metadata": {},
   "outputs": [],
   "source": [
    "# 单变量\n",
    "sns.distplot(iris['SepalLengthCm'])"
   ]
  },
  {
   "cell_type": "code",
   "execution_count": null,
   "metadata": {},
   "outputs": [],
   "source": [
    "sns.distplot(iris['SepalLengthCm'], bins=20, kde=False, rug=True)"
   ]
  },
  {
   "cell_type": "code",
   "execution_count": null,
   "metadata": {},
   "outputs": [],
   "source": [
    "sns.kdeplot(iris['SepalLengthCm'])"
   ]
  },
  {
   "cell_type": "markdown",
   "metadata": {},
   "source": [
    "#### 绘制双变量分布\n",
    "可视化两个变量的二元分布也很有用。在seaborn中执行此操作的最简单方法是使用jointplot()函数，该函数创建一个多面板图形，显示两个变量之间的双变量（或联合）关系以及每个变量在单独轴上的单变量（或边际）分布。默认绘制散点图。"
   ]
  },
  {
   "cell_type": "code",
   "execution_count": null,
   "metadata": {},
   "outputs": [],
   "source": [
    "sns.jointplot(x='SepalLengthCm', y='SepalWidthCm', data=iris)"
   ]
  },
  {
   "cell_type": "markdown",
   "metadata": {},
   "source": [
    "双变量的直方图的类似物称为“hexbin”图，因为它显示了落在六边形区间内的观测计数。此图对于相对较大的数据集最有效。"
   ]
  },
  {
   "cell_type": "code",
   "execution_count": null,
   "metadata": {},
   "outputs": [],
   "source": [
    "sns.jointplot(x='SepalLengthCm', y='SepalWidthCm', data=iris, kind='hex')"
   ]
  },
  {
   "cell_type": "code",
   "execution_count": null,
   "metadata": {},
   "outputs": [],
   "source": [
    "sns.jointplot(x='SepalLengthCm', y='SepalWidthCm', data=iris, kind='kde')"
   ]
  },
  {
   "cell_type": "markdown",
   "metadata": {},
   "source": [
    "#### 可视化数据集中的成对关系\n",
    "要在数据集中绘制多个成对的双变量分布，可以使用该pairplot()函数。这将创建一个轴域的矩阵，并显示DataFrame中每对“列变量”的关系。默认情况下，它还在对角轴上绘制每个变量的单变量分布："
   ]
  },
  {
   "cell_type": "code",
   "execution_count": null,
   "metadata": {},
   "outputs": [],
   "source": [
    "sns.pairplot(iris)"
   ]
  },
  {
   "cell_type": "code",
   "execution_count": null,
   "metadata": {},
   "outputs": [],
   "source": [
    "sns.pairplot(iris, hue=\"Species\", size=3, diag_kind='kde')"
   ]
  },
  {
   "cell_type": "code",
   "execution_count": null,
   "metadata": {},
   "outputs": [],
   "source": [
    "# 绘制热力图\n",
    "corr=iris.corr()\n",
    "hm = sns.heatmap(round(corr,2), annot=True, cmap=\"coolwarm\",fmt='.2f',\n",
    "                 linewidths=.05)"
   ]
  },
  {
   "cell_type": "markdown",
   "metadata": {},
   "source": [
    "#### 使用seaborn.FacetGrid()、seaborn.PairGrid()、JointGrid() 分组绘图-Multi-plot grids；"
   ]
  },
  {
   "cell_type": "code",
   "execution_count": null,
   "metadata": {},
   "outputs": [],
   "source": [
    "sns.FacetGrid(iris, hue=\"Species\", size=5) \\\n",
    "   .map(plt.scatter, \"SepalLengthCm\", \"SepalWidthCm\") \\\n",
    "   .add_legend()"
   ]
  },
  {
   "cell_type": "code",
   "execution_count": null,
   "metadata": {},
   "outputs": [],
   "source": [
    "sns.FacetGrid(iris, hue=\"Species\", size=6) \\\n",
    "   .map(sns.kdeplot, \"PetalLengthCm\") \\\n",
    "   .add_legend()"
   ]
  },
  {
   "cell_type": "code",
   "execution_count": null,
   "metadata": {},
   "outputs": [],
   "source": [
    "g = sns.PairGrid(iris,hue='Species')\n",
    "g = g.map(plt.scatter)"
   ]
  },
  {
   "cell_type": "code",
   "execution_count": null,
   "metadata": {},
   "outputs": [],
   "source": [
    "g = sns.JointGrid(x=\"SepalLengthCm\", y=\"SepalWidthCm\", data=iris)\n",
    "g.plot(sns.regplot, sns.distplot) # regplot()函数绘制了两个变量x和y的散点图，然后拟合回归模型y〜x"
   ]
  },
  {
   "cell_type": "markdown",
   "metadata": {},
   "source": [
    "除了以上函数外，seaborn还提供了样式控制和色调控制，如前面设置sns.set(style=\"white\", color_codes=True)。具体使用请查阅官方文档。"
   ]
  }
 ],
 "metadata": {
  "kernelspec": {
   "display_name": "Python 3",
   "language": "python",
   "name": "python3"
  },
  "language_info": {
   "codemirror_mode": {
    "name": "ipython",
    "version": 3
   },
   "file_extension": ".py",
   "mimetype": "text/x-python",
   "name": "python",
   "nbconvert_exporter": "python",
   "pygments_lexer": "ipython3",
   "version": "3.6.5"
  }
 },
 "nbformat": 4,
 "nbformat_minor": 2
}
